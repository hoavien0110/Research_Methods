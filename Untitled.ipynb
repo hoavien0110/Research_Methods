{
 "cells": [
  {
   "cell_type": "code",
   "execution_count": 1,
   "id": "8375f1b1",
   "metadata": {},
   "outputs": [
    {
     "name": "stdout",
     "output_type": "stream",
     "text": [
      "Hello\n"
     ]
    }
   ],
   "source": [
    "print(\"Hello\")"
   ]
  },
  {
   "cell_type": "code",
   "execution_count": 3,
   "id": "b6886493",
   "metadata": {},
   "outputs": [],
   "source": [
    "import pandas as pd\n",
    "test_data = pd.read_csv(\"test.tsv\", sep = \"\\t\")\n",
    "ensemble = pd.read_csv(\"Ensemble.tsv\", sep = \"\\t\")\n",
    "predict1 = pd.read_csv(\"rafalposwiata_roberta-large-depression.tsv\", sep = \"\\t\")\n",
    "predict2 = pd.read_csv(\"rafalposwiata_deproberta-large-depression.tsv\", sep = \"\\t\")"
   ]
  },
  {
   "cell_type": "code",
   "execution_count": 5,
   "id": "9f2f064c",
   "metadata": {},
   "outputs": [
    {
     "data": {
      "text/html": [
       "<div>\n",
       "<style scoped>\n",
       "    .dataframe tbody tr th:only-of-type {\n",
       "        vertical-align: middle;\n",
       "    }\n",
       "\n",
       "    .dataframe tbody tr th {\n",
       "        vertical-align: top;\n",
       "    }\n",
       "\n",
       "    .dataframe thead th {\n",
       "        text-align: right;\n",
       "    }\n",
       "</style>\n",
       "<table border=\"1\" class=\"dataframe\">\n",
       "  <thead>\n",
       "    <tr style=\"text-align: right;\">\n",
       "      <th></th>\n",
       "      <th>Pid</th>\n",
       "      <th>text data</th>\n",
       "      <th>Class labels</th>\n",
       "    </tr>\n",
       "  </thead>\n",
       "  <tbody>\n",
       "    <tr>\n",
       "      <th>0</th>\n",
       "      <td>test_pid_1</td>\n",
       "      <td>Im scared : This is it. I lie to myself every ...</td>\n",
       "      <td>moderate</td>\n",
       "    </tr>\n",
       "    <tr>\n",
       "      <th>1</th>\n",
       "      <td>test_pid_2</td>\n",
       "      <td>New to this but just wanted to vent : I just f...</td>\n",
       "      <td>moderate</td>\n",
       "    </tr>\n",
       "    <tr>\n",
       "      <th>2</th>\n",
       "      <td>test_pid_3</td>\n",
       "      <td>I’m sad : It’s kinda always been an issue. I w...</td>\n",
       "      <td>moderate</td>\n",
       "    </tr>\n",
       "    <tr>\n",
       "      <th>3</th>\n",
       "      <td>test_pid_4</td>\n",
       "      <td>Lonely but not alone. : All of my immediately ...</td>\n",
       "      <td>moderate</td>\n",
       "    </tr>\n",
       "    <tr>\n",
       "      <th>4</th>\n",
       "      <td>test_pid_5</td>\n",
       "      <td>This year has been trash. : I dont know why I’...</td>\n",
       "      <td>moderate</td>\n",
       "    </tr>\n",
       "    <tr>\n",
       "      <th>...</th>\n",
       "      <td>...</td>\n",
       "      <td>...</td>\n",
       "      <td>...</td>\n",
       "    </tr>\n",
       "    <tr>\n",
       "      <th>95</th>\n",
       "      <td>test_pid_96</td>\n",
       "      <td>Even if I make money, what would I even do wit...</td>\n",
       "      <td>moderate</td>\n",
       "    </tr>\n",
       "    <tr>\n",
       "      <th>96</th>\n",
       "      <td>test_pid_97</td>\n",
       "      <td>Music as a coping mechanism : Do you ever just...</td>\n",
       "      <td>moderate</td>\n",
       "    </tr>\n",
       "    <tr>\n",
       "      <th>97</th>\n",
       "      <td>test_pid_98</td>\n",
       "      <td>I lied to my therapist so that she wouldn’t ta...</td>\n",
       "      <td>moderate</td>\n",
       "    </tr>\n",
       "    <tr>\n",
       "      <th>98</th>\n",
       "      <td>test_pid_99</td>\n",
       "      <td>Anyone else has horrible mood swings? : [removed]</td>\n",
       "      <td>moderate</td>\n",
       "    </tr>\n",
       "    <tr>\n",
       "      <th>99</th>\n",
       "      <td>test_pid_100</td>\n",
       "      <td>Is there a way of fighting depression alone? :...</td>\n",
       "      <td>moderate</td>\n",
       "    </tr>\n",
       "  </tbody>\n",
       "</table>\n",
       "<p>100 rows × 3 columns</p>\n",
       "</div>"
      ],
      "text/plain": [
       "             Pid                                          text data  \\\n",
       "0     test_pid_1  Im scared : This is it. I lie to myself every ...   \n",
       "1     test_pid_2  New to this but just wanted to vent : I just f...   \n",
       "2     test_pid_3  I’m sad : It’s kinda always been an issue. I w...   \n",
       "3     test_pid_4  Lonely but not alone. : All of my immediately ...   \n",
       "4     test_pid_5  This year has been trash. : I dont know why I’...   \n",
       "..           ...                                                ...   \n",
       "95   test_pid_96  Even if I make money, what would I even do wit...   \n",
       "96   test_pid_97  Music as a coping mechanism : Do you ever just...   \n",
       "97   test_pid_98  I lied to my therapist so that she wouldn’t ta...   \n",
       "98   test_pid_99  Anyone else has horrible mood swings? : [removed]   \n",
       "99  test_pid_100  Is there a way of fighting depression alone? :...   \n",
       "\n",
       "   Class labels  \n",
       "0      moderate  \n",
       "1      moderate  \n",
       "2      moderate  \n",
       "3      moderate  \n",
       "4      moderate  \n",
       "..          ...  \n",
       "95     moderate  \n",
       "96     moderate  \n",
       "97     moderate  \n",
       "98     moderate  \n",
       "99     moderate  \n",
       "\n",
       "[100 rows x 3 columns]"
      ]
     },
     "execution_count": 5,
     "metadata": {},
     "output_type": "execute_result"
    }
   ],
   "source": [
    "test_data.head(100)"
   ]
  },
  {
   "cell_type": "code",
   "execution_count": 12,
   "id": "8316279d",
   "metadata": {},
   "outputs": [],
   "source": [
    "test_pid= [i.strip() for i in test_data[\"Pid\"]]\n",
    "text_data = [i.strip() for i in test_data[\"text data\"]]\n",
    "groundtruth = [i.strip() for i in test_data[\"Class labels\"]]"
   ]
  },
  {
   "cell_type": "code",
   "execution_count": 13,
   "id": "884af0fa",
   "metadata": {},
   "outputs": [
    {
     "data": {
      "text/html": [
       "<div>\n",
       "<style scoped>\n",
       "    .dataframe tbody tr th:only-of-type {\n",
       "        vertical-align: middle;\n",
       "    }\n",
       "\n",
       "    .dataframe tbody tr th {\n",
       "        vertical-align: top;\n",
       "    }\n",
       "\n",
       "    .dataframe thead th {\n",
       "        text-align: right;\n",
       "    }\n",
       "</style>\n",
       "<table border=\"1\" class=\"dataframe\">\n",
       "  <thead>\n",
       "    <tr style=\"text-align: right;\">\n",
       "      <th></th>\n",
       "      <th>pid</th>\n",
       "      <th>class_label</th>\n",
       "    </tr>\n",
       "  </thead>\n",
       "  <tbody>\n",
       "    <tr>\n",
       "      <th>0</th>\n",
       "      <td>test_pid_1</td>\n",
       "      <td>moderate</td>\n",
       "    </tr>\n",
       "    <tr>\n",
       "      <th>1</th>\n",
       "      <td>test_pid_2</td>\n",
       "      <td>moderate</td>\n",
       "    </tr>\n",
       "    <tr>\n",
       "      <th>2</th>\n",
       "      <td>test_pid_3</td>\n",
       "      <td>moderate</td>\n",
       "    </tr>\n",
       "    <tr>\n",
       "      <th>3</th>\n",
       "      <td>test_pid_4</td>\n",
       "      <td>moderate</td>\n",
       "    </tr>\n",
       "    <tr>\n",
       "      <th>4</th>\n",
       "      <td>test_pid_5</td>\n",
       "      <td>moderate</td>\n",
       "    </tr>\n",
       "    <tr>\n",
       "      <th>5</th>\n",
       "      <td>test_pid_6</td>\n",
       "      <td>moderate</td>\n",
       "    </tr>\n",
       "    <tr>\n",
       "      <th>6</th>\n",
       "      <td>test_pid_7</td>\n",
       "      <td>moderate</td>\n",
       "    </tr>\n",
       "    <tr>\n",
       "      <th>7</th>\n",
       "      <td>test_pid_8</td>\n",
       "      <td>moderate</td>\n",
       "    </tr>\n",
       "    <tr>\n",
       "      <th>8</th>\n",
       "      <td>test_pid_9</td>\n",
       "      <td>severe</td>\n",
       "    </tr>\n",
       "    <tr>\n",
       "      <th>9</th>\n",
       "      <td>test_pid_10</td>\n",
       "      <td>severe</td>\n",
       "    </tr>\n",
       "  </tbody>\n",
       "</table>\n",
       "</div>"
      ],
      "text/plain": [
       "           pid class_label\n",
       "0   test_pid_1    moderate\n",
       "1   test_pid_2    moderate\n",
       "2   test_pid_3    moderate\n",
       "3   test_pid_4    moderate\n",
       "4   test_pid_5    moderate\n",
       "5   test_pid_6    moderate\n",
       "6   test_pid_7    moderate\n",
       "7   test_pid_8    moderate\n",
       "8   test_pid_9      severe\n",
       "9  test_pid_10      severe"
      ]
     },
     "execution_count": 13,
     "metadata": {},
     "output_type": "execute_result"
    }
   ],
   "source": [
    "ensemble.head(10)"
   ]
  },
  {
   "cell_type": "code",
   "execution_count": 14,
   "id": "fe16d43d",
   "metadata": {},
   "outputs": [],
   "source": [
    "predict_ensemble = [i.strip() for i in ensemble[\"class_label\"]]\n",
    "predict_model_1 = [i.strip() for i in predict1[\"class_label\"]]\n",
    "predict_model_2 = [i.strip() for i in predict2[\"class_label\"]]"
   ]
  },
  {
   "cell_type": "code",
   "execution_count": 15,
   "id": "95ffa1e7",
   "metadata": {},
   "outputs": [],
   "source": [
    "df = pd.DataFrame({\n",
    "    'pid': test_pid,\n",
    "    'text data': text_data,\n",
    "    'groundtruth': groundtruth,\n",
    "    'predict ensemble': predict_ensemble,\n",
    "    'predict model 1': predict_model_1,\n",
    "    'predict model 2': predict_model_1\n",
    "})"
   ]
  },
  {
   "cell_type": "code",
   "execution_count": 16,
   "id": "10a355f1",
   "metadata": {},
   "outputs": [
    {
     "name": "stdout",
     "output_type": "stream",
     "text": [
      "                pid                                          text data  \\\n",
      "0        test_pid_1  Im scared : This is it. I lie to myself every ...   \n",
      "1        test_pid_2  New to this but just wanted to vent : I just f...   \n",
      "2        test_pid_3  I’m sad : It’s kinda always been an issue. I w...   \n",
      "3        test_pid_4  Lonely but not alone. : All of my immediately ...   \n",
      "4        test_pid_5  This year has been trash. : I dont know why I’...   \n",
      "...             ...                                                ...   \n",
      "3240  test_pid_3241  Feeling lonely. : Hi reddit, I haven’t posted ...   \n",
      "3241  test_pid_3242  When would suicide be right? : So I got back f...   \n",
      "3242  test_pid_3243  Lowest I’ve ever been ever. : To make a long s...   \n",
      "3243  test_pid_3244  Does the Toxoplasma Gondii ruined my life ? (f...   \n",
      "3244  test_pid_3245  Getting the correct diagnosis : Currently goin...   \n",
      "\n",
      "     groundtruth predict ensemble predict model 1 predict model 2  \n",
      "0       moderate         moderate        moderate        moderate  \n",
      "1       moderate         moderate        moderate        moderate  \n",
      "2       moderate         moderate        moderate        moderate  \n",
      "3       moderate         moderate        moderate        moderate  \n",
      "4       moderate         moderate        moderate        moderate  \n",
      "...          ...              ...             ...             ...  \n",
      "3240      severe         moderate        moderate        moderate  \n",
      "3241      severe         moderate        moderate        moderate  \n",
      "3242      severe   not depression  not depression  not depression  \n",
      "3243      severe   not depression  not depression  not depression  \n",
      "3244      severe           severe          severe          severe  \n",
      "\n",
      "[3245 rows x 6 columns]\n"
     ]
    }
   ],
   "source": [
    "print(df)"
   ]
  },
  {
   "cell_type": "code",
   "execution_count": 17,
   "id": "5787769d",
   "metadata": {},
   "outputs": [],
   "source": [
    "df_mix = df.sample(frac = 1).reset_index(drop = True)"
   ]
  },
  {
   "cell_type": "code",
   "execution_count": 22,
   "id": "db6ee09c",
   "metadata": {},
   "outputs": [],
   "source": [
    "df_mix_2 = df_mix.head(100)"
   ]
  },
  {
   "cell_type": "code",
   "execution_count": 20,
   "id": "53b121cc",
   "metadata": {},
   "outputs": [],
   "source": [
    "df_mix.to_csv(\"Depression Text.csv\", index = False)"
   ]
  },
  {
   "cell_type": "code",
   "execution_count": 24,
   "id": "667ceb41",
   "metadata": {},
   "outputs": [],
   "source": [
    "df_mix_2.to_csv(\"Depression_Text_100.csv\", index = False)"
   ]
  },
  {
   "cell_type": "code",
   "execution_count": null,
   "id": "2680d591",
   "metadata": {},
   "outputs": [],
   "source": []
  }
 ],
 "metadata": {
  "kernelspec": {
   "display_name": "Python 3",
   "language": "python",
   "name": "python3"
  },
  "language_info": {
   "codemirror_mode": {
    "name": "ipython",
    "version": 3
   },
   "file_extension": ".py",
   "mimetype": "text/x-python",
   "name": "python",
   "nbconvert_exporter": "python",
   "pygments_lexer": "ipython3",
   "version": "3.8.3"
  }
 },
 "nbformat": 4,
 "nbformat_minor": 5
}
